{
 "cells": [
  {
   "cell_type": "code",
   "execution_count": 2,
   "metadata": {},
   "outputs": [],
   "source": [
    "import numpy as np\n",
    "import matplotlib.pyplot as plt\n",
    "from keras.datasets import mnist\n",
    "from keras.models import Sequential\n",
    "from keras.layers import Dense, Activation, Flatten, Reshape\n",
    "from keras.utils import to_categorical"
   ]
  },
  {
   "cell_type": "code",
   "execution_count": 3,
   "metadata": {},
   "outputs": [],
   "source": [
    "(x_train, y_train), (x_test, y_test) = mnist.load_data()"
   ]
  },
  {
   "cell_type": "code",
   "execution_count": 6,
   "metadata": {},
   "outputs": [
    {
     "data": {
      "text/plain": [
       "(60000, 28, 28)"
      ]
     },
     "execution_count": 6,
     "metadata": {},
     "output_type": "execute_result"
    }
   ],
   "source": [
    "x_train.shape"
   ]
  },
  {
   "cell_type": "code",
   "execution_count": 5,
   "metadata": {},
   "outputs": [
    {
     "data": {
      "text/plain": [
       "(10000, 28, 28)"
      ]
     },
     "execution_count": 5,
     "metadata": {},
     "output_type": "execute_result"
    }
   ],
   "source": [
    "x_test.shape"
   ]
  },
  {
   "cell_type": "code",
   "execution_count": 7,
   "metadata": {},
   "outputs": [
    {
     "data": {
      "text/plain": [
       "(60000,)"
      ]
     },
     "execution_count": 7,
     "metadata": {},
     "output_type": "execute_result"
    }
   ],
   "source": [
    "y_train.shape"
   ]
  },
  {
   "cell_type": "code",
   "execution_count": 8,
   "metadata": {},
   "outputs": [
    {
     "data": {
      "text/plain": [
       "(10000,)"
      ]
     },
     "execution_count": 8,
     "metadata": {},
     "output_type": "execute_result"
    }
   ],
   "source": [
    "y_test.shape"
   ]
  },
  {
   "cell_type": "code",
   "execution_count": 9,
   "metadata": {},
   "outputs": [],
   "source": [
    "x_train = x_train.reshape((x_train.shape[0], 28* 28)).astype('float32') / 255\n",
    "x_test = x_test.reshape((x_test.shape[0], 28* 28)).astype('float32') / 255"
   ]
  },
  {
   "cell_type": "code",
   "execution_count": 10,
   "metadata": {},
   "outputs": [],
   "source": [
    "y_train = to_categorical(y_train)\n",
    "y_test = to_categorical(y_test)"
   ]
  },
  {
   "cell_type": "code",
   "execution_count": 11,
   "metadata": {},
   "outputs": [
    {
     "data": {
      "text/plain": [
       "(60000, 784)"
      ]
     },
     "execution_count": 11,
     "metadata": {},
     "output_type": "execute_result"
    }
   ],
   "source": [
    "x_train.shape"
   ]
  },
  {
   "cell_type": "code",
   "execution_count": 12,
   "metadata": {},
   "outputs": [
    {
     "data": {
      "text/plain": [
       "(10000, 784)"
      ]
     },
     "execution_count": 12,
     "metadata": {},
     "output_type": "execute_result"
    }
   ],
   "source": [
    "x_test.shape"
   ]
  },
  {
   "cell_type": "code",
   "execution_count": 13,
   "metadata": {},
   "outputs": [
    {
     "data": {
      "text/plain": [
       "(60000, 10)"
      ]
     },
     "execution_count": 13,
     "metadata": {},
     "output_type": "execute_result"
    }
   ],
   "source": [
    "y_train.shape"
   ]
  },
  {
   "cell_type": "code",
   "execution_count": 14,
   "metadata": {},
   "outputs": [
    {
     "data": {
      "text/plain": [
       "(10000, 10)"
      ]
     },
     "execution_count": 14,
     "metadata": {},
     "output_type": "execute_result"
    }
   ],
   "source": [
    "y_test.shape"
   ]
  },
  {
   "cell_type": "code",
   "execution_count": 16,
   "metadata": {},
   "outputs": [],
   "source": [
    "model = Sequential([\n",
    "    Dense(128, activation='relu', input_shape=(28*28,)),\n",
    "    Dense(74, activation='relu', input_shape=(28*28,)),\n",
    "    Dense(32, activation='relu', input_shape=(28*28,)),\n",
    "    Dense(10, activation='softmax')])"
   ]
  },
  {
   "cell_type": "code",
   "execution_count": 17,
   "metadata": {},
   "outputs": [
    {
     "name": "stdout",
     "output_type": "stream",
     "text": [
      "Epoch 1/50\n",
      "WARNING:tensorflow:From c:\\Users\\saturn\\miniconda3\\envs\\deep_learning_course\\Lib\\site-packages\\keras\\src\\utils\\tf_utils.py:492: The name tf.ragged.RaggedTensorValue is deprecated. Please use tf.compat.v1.ragged.RaggedTensorValue instead.\n",
      "\n",
      "WARNING:tensorflow:From c:\\Users\\saturn\\miniconda3\\envs\\deep_learning_course\\Lib\\site-packages\\keras\\src\\engine\\base_layer_utils.py:384: The name tf.executing_eagerly_outside_functions is deprecated. Please use tf.compat.v1.executing_eagerly_outside_functions instead.\n",
      "\n",
      "1875/1875 [==============================] - 25s 12ms/step - loss: 0.2485 - accuracy: 0.9266 - val_loss: 0.1115 - val_accuracy: 0.9664\n",
      "Epoch 2/50\n",
      "1875/1875 [==============================] - 23s 12ms/step - loss: 0.1028 - accuracy: 0.9683 - val_loss: 0.0823 - val_accuracy: 0.9749\n",
      "Epoch 3/50\n",
      "1875/1875 [==============================] - 23s 12ms/step - loss: 0.0733 - accuracy: 0.9777 - val_loss: 0.0897 - val_accuracy: 0.9721\n",
      "Epoch 4/50\n",
      "1875/1875 [==============================] - 22s 12ms/step - loss: 0.0588 - accuracy: 0.9818 - val_loss: 0.1078 - val_accuracy: 0.9669\n",
      "Epoch 5/50\n",
      "1875/1875 [==============================] - 20s 11ms/step - loss: 0.0475 - accuracy: 0.9843 - val_loss: 0.0844 - val_accuracy: 0.9729\n",
      "Epoch 6/50\n",
      "1875/1875 [==============================] - 23s 12ms/step - loss: 0.0375 - accuracy: 0.9879 - val_loss: 0.0904 - val_accuracy: 0.9749\n",
      "Epoch 7/50\n",
      "1875/1875 [==============================] - 21s 11ms/step - loss: 0.0315 - accuracy: 0.9898 - val_loss: 0.0953 - val_accuracy: 0.9741\n",
      "Epoch 8/50\n",
      "1875/1875 [==============================] - 21s 11ms/step - loss: 0.0273 - accuracy: 0.9910 - val_loss: 0.0901 - val_accuracy: 0.9757\n",
      "Epoch 9/50\n",
      "1875/1875 [==============================] - 21s 11ms/step - loss: 0.0255 - accuracy: 0.9920 - val_loss: 0.1025 - val_accuracy: 0.9726\n",
      "Epoch 10/50\n",
      "1875/1875 [==============================] - 22s 12ms/step - loss: 0.0209 - accuracy: 0.9932 - val_loss: 0.1067 - val_accuracy: 0.9763\n",
      "Epoch 11/50\n",
      "1875/1875 [==============================] - 20s 11ms/step - loss: 0.0186 - accuracy: 0.9939 - val_loss: 0.1006 - val_accuracy: 0.9779\n",
      "Epoch 12/50\n",
      "1875/1875 [==============================] - 23s 12ms/step - loss: 0.0197 - accuracy: 0.9935 - val_loss: 0.0944 - val_accuracy: 0.9789\n",
      "Epoch 13/50\n",
      "1875/1875 [==============================] - 19s 10ms/step - loss: 0.0155 - accuracy: 0.9946 - val_loss: 0.1016 - val_accuracy: 0.9771\n",
      "Epoch 14/50\n",
      "1875/1875 [==============================] - 20s 11ms/step - loss: 0.0176 - accuracy: 0.9944 - val_loss: 0.0963 - val_accuracy: 0.9787\n",
      "Epoch 15/50\n",
      "1875/1875 [==============================] - 22s 12ms/step - loss: 0.0147 - accuracy: 0.9950 - val_loss: 0.1032 - val_accuracy: 0.9785\n",
      "Epoch 16/50\n",
      "1875/1875 [==============================] - 21s 11ms/step - loss: 0.0140 - accuracy: 0.9958 - val_loss: 0.0943 - val_accuracy: 0.9795\n",
      "Epoch 17/50\n",
      "1875/1875 [==============================] - 20s 11ms/step - loss: 0.0134 - accuracy: 0.9959 - val_loss: 0.1045 - val_accuracy: 0.9757\n",
      "Epoch 18/50\n",
      "1875/1875 [==============================] - 21s 11ms/step - loss: 0.0116 - accuracy: 0.9964 - val_loss: 0.1208 - val_accuracy: 0.9786\n",
      "Epoch 19/50\n",
      "1875/1875 [==============================] - 19s 10ms/step - loss: 0.0141 - accuracy: 0.9955 - val_loss: 0.1202 - val_accuracy: 0.9776\n",
      "Epoch 20/50\n",
      "1875/1875 [==============================] - 21s 11ms/step - loss: 0.0107 - accuracy: 0.9966 - val_loss: 0.1121 - val_accuracy: 0.9796\n",
      "Epoch 21/50\n",
      "1875/1875 [==============================] - 20s 11ms/step - loss: 0.0102 - accuracy: 0.9969 - val_loss: 0.1051 - val_accuracy: 0.9788\n",
      "Epoch 22/50\n",
      "1875/1875 [==============================] - 20s 11ms/step - loss: 0.0129 - accuracy: 0.9960 - val_loss: 0.1104 - val_accuracy: 0.9783\n",
      "Epoch 23/50\n",
      "1875/1875 [==============================] - 20s 11ms/step - loss: 0.0090 - accuracy: 0.9969 - val_loss: 0.1194 - val_accuracy: 0.9798\n",
      "Epoch 24/50\n",
      "1875/1875 [==============================] - 20s 11ms/step - loss: 0.0098 - accuracy: 0.9970 - val_loss: 0.1186 - val_accuracy: 0.9770\n",
      "Epoch 25/50\n",
      "1875/1875 [==============================] - 21s 11ms/step - loss: 0.0082 - accuracy: 0.9976 - val_loss: 0.1276 - val_accuracy: 0.9783\n",
      "Epoch 26/50\n",
      "1875/1875 [==============================] - 19s 10ms/step - loss: 0.0098 - accuracy: 0.9969 - val_loss: 0.1086 - val_accuracy: 0.9806\n",
      "Epoch 27/50\n",
      "1875/1875 [==============================] - 19s 10ms/step - loss: 0.0107 - accuracy: 0.9970 - val_loss: 0.1300 - val_accuracy: 0.9786\n",
      "Epoch 28/50\n",
      "1875/1875 [==============================] - 21s 11ms/step - loss: 0.0077 - accuracy: 0.9975 - val_loss: 0.1246 - val_accuracy: 0.9793\n",
      "Epoch 29/50\n",
      "1875/1875 [==============================] - 21s 11ms/step - loss: 0.0084 - accuracy: 0.9973 - val_loss: 0.1186 - val_accuracy: 0.9805\n",
      "Epoch 30/50\n",
      "1875/1875 [==============================] - 20s 11ms/step - loss: 0.0102 - accuracy: 0.9969 - val_loss: 0.1529 - val_accuracy: 0.9773\n",
      "Epoch 31/50\n",
      "1875/1875 [==============================] - 20s 11ms/step - loss: 0.0096 - accuracy: 0.9973 - val_loss: 0.1162 - val_accuracy: 0.9793\n",
      "Epoch 32/50\n",
      "1875/1875 [==============================] - 19s 10ms/step - loss: 0.0082 - accuracy: 0.9977 - val_loss: 0.1202 - val_accuracy: 0.9807\n",
      "Epoch 33/50\n",
      "1875/1875 [==============================] - 21s 11ms/step - loss: 0.0072 - accuracy: 0.9980 - val_loss: 0.1347 - val_accuracy: 0.9806\n",
      "Epoch 34/50\n",
      "1875/1875 [==============================] - 20s 11ms/step - loss: 0.0074 - accuracy: 0.9976 - val_loss: 0.1225 - val_accuracy: 0.9807\n",
      "Epoch 35/50\n",
      "1875/1875 [==============================] - 19s 10ms/step - loss: 0.0044 - accuracy: 0.9987 - val_loss: 0.1251 - val_accuracy: 0.9809\n",
      "Epoch 36/50\n",
      "1875/1875 [==============================] - 20s 11ms/step - loss: 0.0079 - accuracy: 0.9977 - val_loss: 0.1409 - val_accuracy: 0.9790\n",
      "Epoch 37/50\n",
      "1875/1875 [==============================] - 18s 10ms/step - loss: 0.0071 - accuracy: 0.9981 - val_loss: 0.1553 - val_accuracy: 0.9799\n",
      "Epoch 38/50\n",
      "1875/1875 [==============================] - 20s 11ms/step - loss: 0.0060 - accuracy: 0.9979 - val_loss: 0.1503 - val_accuracy: 0.9782\n",
      "Epoch 39/50\n",
      "1875/1875 [==============================] - 20s 11ms/step - loss: 0.0078 - accuracy: 0.9977 - val_loss: 0.1654 - val_accuracy: 0.9793\n",
      "Epoch 40/50\n",
      "1875/1875 [==============================] - 497s 265ms/step - loss: 0.0081 - accuracy: 0.9979 - val_loss: 0.1438 - val_accuracy: 0.9807\n",
      "Epoch 41/50\n",
      "1875/1875 [==============================] - 11s 6ms/step - loss: 0.0051 - accuracy: 0.9984 - val_loss: 0.1400 - val_accuracy: 0.9815\n",
      "Epoch 42/50\n",
      "1875/1875 [==============================] - 6s 3ms/step - loss: 0.0048 - accuracy: 0.9987 - val_loss: 0.1729 - val_accuracy: 0.9763\n",
      "Epoch 43/50\n",
      "1875/1875 [==============================] - 6s 3ms/step - loss: 0.0084 - accuracy: 0.9978 - val_loss: 0.1497 - val_accuracy: 0.9813\n",
      "Epoch 44/50\n",
      "1875/1875 [==============================] - 6s 3ms/step - loss: 0.0065 - accuracy: 0.9979 - val_loss: 0.1539 - val_accuracy: 0.9789\n",
      "Epoch 45/50\n",
      "1875/1875 [==============================] - 6s 3ms/step - loss: 0.0056 - accuracy: 0.9983 - val_loss: 0.1493 - val_accuracy: 0.9808\n",
      "Epoch 46/50\n",
      "1875/1875 [==============================] - 6s 3ms/step - loss: 0.0063 - accuracy: 0.9983 - val_loss: 0.1521 - val_accuracy: 0.9795\n",
      "Epoch 47/50\n",
      "1875/1875 [==============================] - 6s 3ms/step - loss: 0.0063 - accuracy: 0.9983 - val_loss: 0.1566 - val_accuracy: 0.9788\n",
      "Epoch 48/50\n",
      "1875/1875 [==============================] - 6s 3ms/step - loss: 0.0038 - accuracy: 0.9988 - val_loss: 0.1638 - val_accuracy: 0.9799\n",
      "Epoch 49/50\n",
      "1875/1875 [==============================] - 6s 3ms/step - loss: 0.0068 - accuracy: 0.9983 - val_loss: 0.1301 - val_accuracy: 0.9814\n",
      "Epoch 50/50\n",
      "1875/1875 [==============================] - 6s 3ms/step - loss: 0.0061 - accuracy: 0.9983 - val_loss: 0.1459 - val_accuracy: 0.9804\n"
     ]
    }
   ],
   "source": [
    "model.compile(optimizer='adam', loss='categorical_crossentropy', metrics=['accuracy'])\n",
    "history = model.fit(x_train, y_train, validation_data=(x_test, y_test), epochs=50)\n"
   ]
  },
  {
   "cell_type": "code",
   "execution_count": 18,
   "metadata": {},
   "outputs": [
    {
     "name": "stdout",
     "output_type": "stream",
     "text": [
      "313/313 [==============================] - 1s 2ms/step - loss: 0.1459 - accuracy: 0.9804\n",
      "Test accuracy: 0.980400025844574\n"
     ]
    }
   ],
   "source": [
    "test_loss, test_acc = model.evaluate(x_test, y_test)\n",
    "print('Test accuracy:', test_acc)"
   ]
  },
  {
   "cell_type": "code",
   "execution_count": 24,
   "metadata": {},
   "outputs": [
    {
     "data": {
      "image/png": "[encoded data removed]",
      "text/plain": [
       "<Figure size 640x480 with 1 Axes>"
      ]
     },
     "metadata": {},
     "output_type": "display_data"
    },
    {
     "name": "stdout",
     "output_type": "stream",
     "text": [
      "Saved model to disk\n"
     ]
    },
    {
     "name": "stderr",
     "output_type": "stream",
     "text": [
      "c:\\Users\\saturn\\miniconda3\\envs\\deep_learning_course\\Lib\\site-packages\\keras\\src\\engine\\training.py:3103: UserWarning: You are saving your model as an HDF5 file via `model.save()`. This file format is considered legacy. We recommend using instead the native Keras format, e.g. `model.save('my_model.keras')`.\n",
      "  saving_api.save_model(\n"
     ]
    },
    {
     "data": {
      "text/plain": [
       "<Figure size 640x480 with 0 Axes>"
      ]
     },
     "metadata": {},
     "output_type": "display_data"
    }
   ],
   "source": [
    "#plot a graph to visualize the epoch\n",
    "plt.plot(history.history['accuracy'])\n",
    "plt.plot(history.history['val_accuracy'])\n",
    "plt.title('Model accuracy')\n",
    "plt.ylabel('Accuracy')\n",
    "plt.xlabel('Epoch')\n",
    "plt.legend(['Train', 'Test'], loc='upper right')\n",
    "plt.show()\n",
    "#savr plot\n",
    "plt.savefig('Multi-layer neural network_1.jpg')\n",
    "\n",
    "\n",
    "# save the trained model for future use \n",
    "model.save(\"Multi-Layer-Neural-Network-models-for-Image-Classification-Problems/CNN_Model.h5\")\n",
    "print(\"Saved model to disk\")"
   ]
  }
 ],
 "metadata": {
  "kernelspec": {
   "display_name": "deep_learning_course",
   "language": "python",
   "name": "python3"
  },
  "language_info": {
   "codemirror_mode": {
    "name": "ipython",
    "version": 3
   },
   "file_extension": ".py",
   "mimetype": "text/x-python",
   "name": "python",
   "nbconvert_exporter": "python",
   "pygments_lexer": "ipython3",
   "version": "3.11.7"
  }
 },
 "nbformat": 4,
 "nbformat_minor": 2
}
